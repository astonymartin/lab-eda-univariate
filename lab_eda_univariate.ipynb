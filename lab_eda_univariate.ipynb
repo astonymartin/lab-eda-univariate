{
 "cells": [
  {
   "cell_type": "markdown",
   "id": "1015f7bb",
   "metadata": {},
   "source": [
    "## Lab - EDA Univariate Analysis: Diving into Amazon UK Product Insights\n",
    "\n",
    "**Objective**: Explore the product listing dynamics on Amazon UK to extract actionable business insights. By understanding the distribution, central tendencies, and relationships of various product attributes, businesses can make more informed decisions on product positioning, pricing strategies, and inventory management.\n",
    "\n",
    "**Dataset**: This lab utilizes the [Amazon UK product dataset](https://www.kaggle.com/datasets/asaniczka/uk-optimal-product-price-prediction/)\n",
    "which provides information on product categories, brands, prices, ratings, and more from from Amazon UK. You'll need to download it to start working with it.\n",
    "\n",
    "\n",
    "---"
   ]
  },
  {
   "cell_type": "code",
   "execution_count": 1,
   "id": "36778582",
   "metadata": {},
   "outputs": [],
   "source": [
    "import pandas as pd                     # tratamiento de datos\n",
    "import matplotlib.pyplot as plt         # visualización ed datos\n",
    "import seaborn as sns                   # visualización en HD\n",
    "import numpy as np                      # operaciones matemáticas"
   ]
  },
  {
   "cell_type": "code",
   "execution_count": 2,
   "id": "c058cf10",
   "metadata": {},
   "outputs": [],
   "source": [
    "df = pd.read_csv(\"amz_uk_price_prediction_dataset.csv\")"
   ]
  },
  {
   "cell_type": "code",
   "execution_count": 3,
   "id": "41d04f45",
   "metadata": {},
   "outputs": [
    {
     "data": {
      "text/html": [
       "<div>\n",
       "<style scoped>\n",
       "    .dataframe tbody tr th:only-of-type {\n",
       "        vertical-align: middle;\n",
       "    }\n",
       "\n",
       "    .dataframe tbody tr th {\n",
       "        vertical-align: top;\n",
       "    }\n",
       "\n",
       "    .dataframe thead th {\n",
       "        text-align: right;\n",
       "    }\n",
       "</style>\n",
       "<table border=\"1\" class=\"dataframe\">\n",
       "  <thead>\n",
       "    <tr style=\"text-align: right;\">\n",
       "      <th></th>\n",
       "      <th>uid</th>\n",
       "      <th>asin</th>\n",
       "      <th>title</th>\n",
       "      <th>stars</th>\n",
       "      <th>reviews</th>\n",
       "      <th>price</th>\n",
       "      <th>isBestSeller</th>\n",
       "      <th>boughtInLastMonth</th>\n",
       "      <th>category</th>\n",
       "    </tr>\n",
       "  </thead>\n",
       "  <tbody>\n",
       "    <tr>\n",
       "      <th>163023</th>\n",
       "      <td>175104</td>\n",
       "      <td>B0BZ8MBHLK</td>\n",
       "      <td>Carolina Herrera Good Girl Blush EAU DE Parfum...</td>\n",
       "      <td>4.2</td>\n",
       "      <td>14</td>\n",
       "      <td>60.50</td>\n",
       "      <td>False</td>\n",
       "      <td>0</td>\n",
       "      <td>Fragrances</td>\n",
       "    </tr>\n",
       "    <tr>\n",
       "      <th>1648690</th>\n",
       "      <td>1855361</td>\n",
       "      <td>B07LB4Y1CM</td>\n",
       "      <td>Flat Cap with Peak 'Shelby' Baker Boy Newsboy ...</td>\n",
       "      <td>4.4</td>\n",
       "      <td>2530</td>\n",
       "      <td>8.99</td>\n",
       "      <td>False</td>\n",
       "      <td>0</td>\n",
       "      <td>Men</td>\n",
       "    </tr>\n",
       "    <tr>\n",
       "      <th>2319080</th>\n",
       "      <td>2673726</td>\n",
       "      <td>B09R9R9MMP</td>\n",
       "      <td>10x Low Profile Fuses Automotive Fuses Assortm...</td>\n",
       "      <td>4.3</td>\n",
       "      <td>22</td>\n",
       "      <td>9.99</td>\n",
       "      <td>False</td>\n",
       "      <td>0</td>\n",
       "      <td>Car &amp; Vehicle Electronics</td>\n",
       "    </tr>\n",
       "    <tr>\n",
       "      <th>2045047</th>\n",
       "      <td>2309577</td>\n",
       "      <td>B0C5JB4LY2</td>\n",
       "      <td>LindoMaker Shorts Men Casual Summer Cotton Sho...</td>\n",
       "      <td>0.0</td>\n",
       "      <td>0</td>\n",
       "      <td>6.99</td>\n",
       "      <td>False</td>\n",
       "      <td>0</td>\n",
       "      <td>Sports &amp; Outdoors</td>\n",
       "    </tr>\n",
       "    <tr>\n",
       "      <th>1050541</th>\n",
       "      <td>1160232</td>\n",
       "      <td>B09NFF33GM</td>\n",
       "      <td>Ring Indoor/Outdoor Pan-Tilt Mount for Stick U...</td>\n",
       "      <td>4.3</td>\n",
       "      <td>2220</td>\n",
       "      <td>69.99</td>\n",
       "      <td>False</td>\n",
       "      <td>0</td>\n",
       "      <td>Surveillance Cameras</td>\n",
       "    </tr>\n",
       "    <tr>\n",
       "      <th>1630486</th>\n",
       "      <td>1834868</td>\n",
       "      <td>B0CHVRTPH3</td>\n",
       "      <td>Boxing Boots,Wrestling Boxing Shoes,Unisex's,F...</td>\n",
       "      <td>0.0</td>\n",
       "      <td>0</td>\n",
       "      <td>59.99</td>\n",
       "      <td>False</td>\n",
       "      <td>0</td>\n",
       "      <td>Boxing Shoes</td>\n",
       "    </tr>\n",
       "    <tr>\n",
       "      <th>1190911</th>\n",
       "      <td>1315750</td>\n",
       "      <td>B097BM6WRM</td>\n",
       "      <td>Piano Cover, Piano Dust Cover, Upright Piano C...</td>\n",
       "      <td>5.0</td>\n",
       "      <td>2</td>\n",
       "      <td>40.99</td>\n",
       "      <td>False</td>\n",
       "      <td>0</td>\n",
       "      <td>Synthesisers, Samplers &amp; Digital Instruments</td>\n",
       "    </tr>\n",
       "    <tr>\n",
       "      <th>940238</th>\n",
       "      <td>1024974</td>\n",
       "      <td>B0CDLMJ56X</td>\n",
       "      <td>SMBHIAON Mens Lightweight Travel Vests,Classic...</td>\n",
       "      <td>0.0</td>\n",
       "      <td>0</td>\n",
       "      <td>37.97</td>\n",
       "      <td>False</td>\n",
       "      <td>0</td>\n",
       "      <td>Sports &amp; Outdoors</td>\n",
       "    </tr>\n",
       "    <tr>\n",
       "      <th>2400053</th>\n",
       "      <td>2770842</td>\n",
       "      <td>B09X6VSQFL</td>\n",
       "      <td>GP Batteries Alkaline Button Cell LR54 Pack of...</td>\n",
       "      <td>4.2</td>\n",
       "      <td>22</td>\n",
       "      <td>10.54</td>\n",
       "      <td>False</td>\n",
       "      <td>0</td>\n",
       "      <td>Household Batteries, Chargers &amp; Accessories</td>\n",
       "    </tr>\n",
       "    <tr>\n",
       "      <th>253645</th>\n",
       "      <td>270086</td>\n",
       "      <td>B077FG461V</td>\n",
       "      <td>Black+Blum 895611 Stainless Steel Lunch Box 10...</td>\n",
       "      <td>4.6</td>\n",
       "      <td>422</td>\n",
       "      <td>27.97</td>\n",
       "      <td>False</td>\n",
       "      <td>50</td>\n",
       "      <td>Storage &amp; Organisation</td>\n",
       "    </tr>\n",
       "  </tbody>\n",
       "</table>\n",
       "</div>"
      ],
      "text/plain": [
       "             uid        asin  \\\n",
       "163023    175104  B0BZ8MBHLK   \n",
       "1648690  1855361  B07LB4Y1CM   \n",
       "2319080  2673726  B09R9R9MMP   \n",
       "2045047  2309577  B0C5JB4LY2   \n",
       "1050541  1160232  B09NFF33GM   \n",
       "1630486  1834868  B0CHVRTPH3   \n",
       "1190911  1315750  B097BM6WRM   \n",
       "940238   1024974  B0CDLMJ56X   \n",
       "2400053  2770842  B09X6VSQFL   \n",
       "253645    270086  B077FG461V   \n",
       "\n",
       "                                                     title  stars  reviews  \\\n",
       "163023   Carolina Herrera Good Girl Blush EAU DE Parfum...    4.2       14   \n",
       "1648690  Flat Cap with Peak 'Shelby' Baker Boy Newsboy ...    4.4     2530   \n",
       "2319080  10x Low Profile Fuses Automotive Fuses Assortm...    4.3       22   \n",
       "2045047  LindoMaker Shorts Men Casual Summer Cotton Sho...    0.0        0   \n",
       "1050541  Ring Indoor/Outdoor Pan-Tilt Mount for Stick U...    4.3     2220   \n",
       "1630486  Boxing Boots,Wrestling Boxing Shoes,Unisex's,F...    0.0        0   \n",
       "1190911  Piano Cover, Piano Dust Cover, Upright Piano C...    5.0        2   \n",
       "940238   SMBHIAON Mens Lightweight Travel Vests,Classic...    0.0        0   \n",
       "2400053  GP Batteries Alkaline Button Cell LR54 Pack of...    4.2       22   \n",
       "253645   Black+Blum 895611 Stainless Steel Lunch Box 10...    4.6      422   \n",
       "\n",
       "         price  isBestSeller  boughtInLastMonth  \\\n",
       "163023   60.50         False                  0   \n",
       "1648690   8.99         False                  0   \n",
       "2319080   9.99         False                  0   \n",
       "2045047   6.99         False                  0   \n",
       "1050541  69.99         False                  0   \n",
       "1630486  59.99         False                  0   \n",
       "1190911  40.99         False                  0   \n",
       "940238   37.97         False                  0   \n",
       "2400053  10.54         False                  0   \n",
       "253645   27.97         False                 50   \n",
       "\n",
       "                                             category  \n",
       "163023                                     Fragrances  \n",
       "1648690                                           Men  \n",
       "2319080                     Car & Vehicle Electronics  \n",
       "2045047                             Sports & Outdoors  \n",
       "1050541                          Surveillance Cameras  \n",
       "1630486                                  Boxing Shoes  \n",
       "1190911  Synthesisers, Samplers & Digital Instruments  \n",
       "940238                              Sports & Outdoors  \n",
       "2400053   Household Batteries, Chargers & Accessories  \n",
       "253645                         Storage & Organisation  "
      ]
     },
     "execution_count": 3,
     "metadata": {},
     "output_type": "execute_result"
    }
   ],
   "source": [
    "df.sample(10)"
   ]
  },
  {
   "cell_type": "code",
   "execution_count": null,
   "id": "42f4561c",
   "metadata": {},
   "outputs": [],
   "source": []
  },
  {
   "cell_type": "markdown",
   "id": "1a3dd365",
   "metadata": {},
   "source": [
    "### Part 1: Understanding Product Categories\n",
    "\n",
    "**Business Question**: What are the most popular product categories on Amazon UK, and how do they compare in terms of listing frequency?\n",
    "\n",
    "1. **Frequency Tables**:\n",
    "    - Generate a frequency table for the product `category`.\n",
    "    - Which are the top 5 most listed product categories?\n",
    "\n",
    "2. **Visualizations**:\n",
    "    - Display the distribution of products across different categories using a bar chart. *If you face problems understanding the chart, do it for a subset of top categories.*\n",
    "    - For a subset of top categories, visualize their proportions using a pie chart. Does any category dominate the listings?\n",
    "\n",
    "---"
   ]
  },
  {
   "cell_type": "code",
   "execution_count": 5,
   "id": "34116cb7",
   "metadata": {},
   "outputs": [],
   "source": [
    "dfam = df.copy()"
   ]
  },
  {
   "cell_type": "code",
   "execution_count": 6,
   "id": "f9262c95",
   "metadata": {},
   "outputs": [
    {
     "data": {
      "text/plain": [
       "<Axes: xlabel='category'>"
      ]
     },
     "execution_count": 6,
     "metadata": {},
     "output_type": "execute_result"
    },
    {
     "data": {
      "image/png": "[encoded data removed]",
      "text/plain": [
       "<Figure size 640x480 with 1 Axes>"
      ]
     },
     "metadata": {},
     "output_type": "display_data"
    }
   ],
   "source": [
    "dfcate=dfam['category'].value_counts().head(5)\n",
    "dfcatepro=dfam['category'].value_counts(normalize=True).head(5)\n",
    "dfcate2 = pd.concat([dfcate, dfcatepro], axis=0)\n",
    "dfcate.plot.bar()"
   ]
  },
  {
   "cell_type": "code",
   "execution_count": 7,
   "id": "d069209f",
   "metadata": {},
   "outputs": [
    {
     "data": {
      "text/plain": [
       "price\n",
       "9.99       48922\n",
       "12.99      38823\n",
       "8.99       34058\n",
       "7.99       33632\n",
       "14.99      32570\n",
       "           ...  \n",
       "2398.99        1\n",
       "1453.08        1\n",
       "1785.63        1\n",
       "1347.36        1\n",
       "317.34         1\n",
       "Name: count, Length: 82916, dtype: int64"
      ]
     },
     "execution_count": 7,
     "metadata": {},
     "output_type": "execute_result"
    }
   ],
   "source": [
    "dfam['price'].value_counts()"
   ]
  },
  {
   "cell_type": "code",
   "execution_count": 8,
   "id": "d7a5a1f4",
   "metadata": {},
   "outputs": [
    {
     "data": {
      "text/plain": [
       "count    2443651.00\n",
       "mean          89.24\n",
       "std          345.61\n",
       "min            0.00\n",
       "25%            9.99\n",
       "50%           19.09\n",
       "75%           45.99\n",
       "max       100000.00\n",
       "Name: price, dtype: float64"
      ]
     },
     "execution_count": 8,
     "metadata": {},
     "output_type": "execute_result"
    }
   ],
   "source": [
    "dfam['price'].describe().round(2)"
   ]
  },
  {
   "cell_type": "code",
   "execution_count": 9,
   "id": "cd4b56d9",
   "metadata": {},
   "outputs": [
    {
     "data": {
      "text/plain": [
       "0    9.99\n",
       "Name: price, dtype: float64"
      ]
     },
     "execution_count": 9,
     "metadata": {},
     "output_type": "execute_result"
    }
   ],
   "source": [
    "dfam['price'].mode()"
   ]
  },
  {
   "cell_type": "code",
   "execution_count": 20,
   "id": "8a3b25b1",
   "metadata": {},
   "outputs": [
    {
     "data": {
      "text/plain": [
       "<Axes: ylabel='Frequency'>"
      ]
     },
     "execution_count": 20,
     "metadata": {},
     "output_type": "execute_result"
    },
    {
     "data": {
      "image/png": "[encoded data removed]",
      "text/plain": [
       "<Figure size 640x480 with 1 Axes>"
      ]
     },
     "metadata": {},
     "output_type": "display_data"
    }
   ],
   "source": [
    "dfam['price'].plot.hist(bins=50)"
   ]
  },
  {
   "cell_type": "code",
   "execution_count": 11,
   "id": "41e6de4d",
   "metadata": {},
   "outputs": [
    {
     "data": {
      "text/plain": [
       "<Axes: >"
      ]
     },
     "execution_count": 11,
     "metadata": {},
     "output_type": "execute_result"
    },
    {
     "data": {
      "image/png": "[encoded data removed]",
      "text/plain": [
       "<Figure size 640x480 with 1 Axes>"
      ]
     },
     "metadata": {},
     "output_type": "display_data"
    }
   ],
   "source": [
    "sns.boxplot(data = dfam['price'], color=\"lightblue\")"
   ]
  },
  {
   "cell_type": "markdown",
   "id": "66f0c1de",
   "metadata": {},
   "source": [
    "### Part 2: Delving into Product Pricing\n",
    "\n",
    "**Business Question**: How are products priced on Amazon UK, and are there specific price points or ranges that are more common?\n",
    "\n",
    "1. **Measures of Centrality**:\n",
    "    - Calculate the mean, median, and mode for the `price` of products.\n",
    "    - What's the average price point of products listed? How does this compare with the most common price point (mode)?\n",
    "\n",
    "2. **Measures of Dispersion**:\n",
    "    - Determine the variance, standard deviation, range, and interquartile range for product `price`.\n",
    "    - How varied are the product prices? Are there any indicators of a significant spread in prices?\n",
    "\n",
    "3. **Visualizations**:\n",
    "    - Is there a specific price range where most products fall? Plot a histogram to visualize the distribution of product prices. *If its hard to read these diagrams, think why this is, and explain how it could be solved.*.\n",
    "    - Are there products that are priced significantly higher than the rest? Use a box plot to showcase the spread and potential outliers in product pricing. \n",
    "\n",
    "---\n"
   ]
  },
  {
   "cell_type": "code",
   "execution_count": 12,
   "id": "ed2714ac",
   "metadata": {},
   "outputs": [
    {
     "data": {
      "text/plain": [
       "119445.48532256528"
      ]
     },
     "execution_count": 12,
     "metadata": {},
     "output_type": "execute_result"
    }
   ],
   "source": [
    "dfam[\"price\"].var()"
   ]
  },
  {
   "cell_type": "code",
   "execution_count": 15,
   "id": "9e61b7aa",
   "metadata": {},
   "outputs": [
    {
     "data": {
      "text/plain": [
       "4241.616412866518"
      ]
     },
     "execution_count": 15,
     "metadata": {},
     "output_type": "execute_result"
    }
   ],
   "source": [
    "dfam[\"price\"].kurtosis()"
   ]
  },
  {
   "cell_type": "code",
   "execution_count": 16,
   "id": "adf81f75",
   "metadata": {},
   "outputs": [
    {
     "data": {
      "text/plain": [
       "27.492977566280338"
      ]
     },
     "execution_count": 16,
     "metadata": {},
     "output_type": "execute_result"
    }
   ],
   "source": [
    "dfam[\"price\"].skew()"
   ]
  },
  {
   "cell_type": "markdown",
   "id": "b6da0d2d",
   "metadata": {},
   "source": [
    "Part 3: Unpacking Product Ratings\n",
    "Business Question: How do customers rate products on Amazon UK, and are there any patterns or tendencies in the ratings?\n",
    "\n",
    "Measures of Centrality:\n",
    "\n",
    "Calculate the mean, median, and mode for the rating of products.\n",
    "How do customers generally rate products? Is there a common trend?\n",
    "Measures of Dispersion:\n",
    "\n",
    "Determine the variance, standard deviation, and interquartile range for product rating.\n",
    "Are the ratings consistent, or is there a wide variation in customer feedback?\n",
    "Shape of the Distribution:\n",
    "\n",
    "Calculate the skewness and kurtosis for the rating column.\n",
    "Are the ratings normally distributed, or do they lean towards higher or lower values?\n",
    "Visualizations:\n",
    "\n",
    "Plot a histogram to visualize the distribution of product ratings. Is there a specific rating that is more common?\n",
    "Submission: Submit a Jupyter Notebook which contains code and a business-centric report summarizing your findings."
   ]
  },
  {
   "cell_type": "code",
   "execution_count": 21,
   "id": "c7b23ed5",
   "metadata": {},
   "outputs": [
    {
     "data": {
      "text/html": [
       "<div>\n",
       "<style scoped>\n",
       "    .dataframe tbody tr th:only-of-type {\n",
       "        vertical-align: middle;\n",
       "    }\n",
       "\n",
       "    .dataframe tbody tr th {\n",
       "        vertical-align: top;\n",
       "    }\n",
       "\n",
       "    .dataframe thead th {\n",
       "        text-align: right;\n",
       "    }\n",
       "</style>\n",
       "<table border=\"1\" class=\"dataframe\">\n",
       "  <thead>\n",
       "    <tr style=\"text-align: right;\">\n",
       "      <th></th>\n",
       "      <th>uid</th>\n",
       "      <th>asin</th>\n",
       "      <th>title</th>\n",
       "      <th>stars</th>\n",
       "      <th>reviews</th>\n",
       "      <th>price</th>\n",
       "      <th>isBestSeller</th>\n",
       "      <th>boughtInLastMonth</th>\n",
       "      <th>category</th>\n",
       "    </tr>\n",
       "  </thead>\n",
       "  <tbody>\n",
       "    <tr>\n",
       "      <th>677961</th>\n",
       "      <td>729056</td>\n",
       "      <td>B0CDH922DY</td>\n",
       "      <td>HTONVK Portable Cassette Player Recorder, Nois...</td>\n",
       "      <td>0.0</td>\n",
       "      <td>0</td>\n",
       "      <td>80.19</td>\n",
       "      <td>False</td>\n",
       "      <td>0</td>\n",
       "      <td>Radios &amp; Boomboxes</td>\n",
       "    </tr>\n",
       "    <tr>\n",
       "      <th>573216</th>\n",
       "      <td>617605</td>\n",
       "      <td>B07CN1RD47</td>\n",
       "      <td>Just Married Rustic Wooden PERSONALISED Mr &amp; M...</td>\n",
       "      <td>4.6</td>\n",
       "      <td>6</td>\n",
       "      <td>9.99</td>\n",
       "      <td>False</td>\n",
       "      <td>0</td>\n",
       "      <td>Handmade Kitchen &amp; Dining</td>\n",
       "    </tr>\n",
       "    <tr>\n",
       "      <th>2242264</th>\n",
       "      <td>2589972</td>\n",
       "      <td>B0CFQ4KQH3</td>\n",
       "      <td>Monocular HD Telescope 15-45X60A Travel Monocu...</td>\n",
       "      <td>0.0</td>\n",
       "      <td>0</td>\n",
       "      <td>349.88</td>\n",
       "      <td>False</td>\n",
       "      <td>0</td>\n",
       "      <td>Binoculars, Telescopes &amp; Optics</td>\n",
       "    </tr>\n",
       "    <tr>\n",
       "      <th>1472490</th>\n",
       "      <td>1628302</td>\n",
       "      <td>B08NFVKB13</td>\n",
       "      <td>ZED- Women Stretch Yoga Leggings Seamless High...</td>\n",
       "      <td>0.0</td>\n",
       "      <td>0</td>\n",
       "      <td>22.49</td>\n",
       "      <td>False</td>\n",
       "      <td>0</td>\n",
       "      <td>Sports &amp; Outdoors</td>\n",
       "    </tr>\n",
       "    <tr>\n",
       "      <th>123370</th>\n",
       "      <td>133108</td>\n",
       "      <td>B0CC2DQC14</td>\n",
       "      <td>Ruby Ring, Ruby Woman Ring. Oval Ruby Ring. Go...</td>\n",
       "      <td>0.0</td>\n",
       "      <td>0</td>\n",
       "      <td>39.00</td>\n",
       "      <td>False</td>\n",
       "      <td>0</td>\n",
       "      <td>Handmade Gifts</td>\n",
       "    </tr>\n",
       "  </tbody>\n",
       "</table>\n",
       "</div>"
      ],
      "text/plain": [
       "             uid        asin  \\\n",
       "677961    729056  B0CDH922DY   \n",
       "573216    617605  B07CN1RD47   \n",
       "2242264  2589972  B0CFQ4KQH3   \n",
       "1472490  1628302  B08NFVKB13   \n",
       "123370    133108  B0CC2DQC14   \n",
       "\n",
       "                                                     title  stars  reviews  \\\n",
       "677961   HTONVK Portable Cassette Player Recorder, Nois...    0.0        0   \n",
       "573216   Just Married Rustic Wooden PERSONALISED Mr & M...    4.6        6   \n",
       "2242264  Monocular HD Telescope 15-45X60A Travel Monocu...    0.0        0   \n",
       "1472490  ZED- Women Stretch Yoga Leggings Seamless High...    0.0        0   \n",
       "123370   Ruby Ring, Ruby Woman Ring. Oval Ruby Ring. Go...    0.0        0   \n",
       "\n",
       "          price  isBestSeller  boughtInLastMonth  \\\n",
       "677961    80.19         False                  0   \n",
       "573216     9.99         False                  0   \n",
       "2242264  349.88         False                  0   \n",
       "1472490   22.49         False                  0   \n",
       "123370    39.00         False                  0   \n",
       "\n",
       "                                category  \n",
       "677961                Radios & Boomboxes  \n",
       "573216         Handmade Kitchen & Dining  \n",
       "2242264  Binoculars, Telescopes & Optics  \n",
       "1472490                Sports & Outdoors  \n",
       "123370                    Handmade Gifts  "
      ]
     },
     "execution_count": 21,
     "metadata": {},
     "output_type": "execute_result"
    }
   ],
   "source": [
    "df.sample(5)"
   ]
  },
  {
   "cell_type": "code",
   "execution_count": 22,
   "id": "7abb41ac",
   "metadata": {},
   "outputs": [
    {
     "data": {
      "text/plain": [
       "count    2.443651e+06\n",
       "mean     2.152836e+00\n",
       "std      2.194865e+00\n",
       "min      0.000000e+00\n",
       "25%      0.000000e+00\n",
       "50%      0.000000e+00\n",
       "75%      4.400000e+00\n",
       "max      5.000000e+00\n",
       "Name: stars, dtype: float64"
      ]
     },
     "execution_count": 22,
     "metadata": {},
     "output_type": "execute_result"
    }
   ],
   "source": [
    "df[\"stars\"].describe()"
   ]
  },
  {
   "cell_type": "code",
   "execution_count": 23,
   "id": "fc4f2037",
   "metadata": {},
   "outputs": [
    {
     "data": {
      "text/plain": [
       "0    0.0\n",
       "Name: stars, dtype: float64"
      ]
     },
     "execution_count": 23,
     "metadata": {},
     "output_type": "execute_result"
    }
   ],
   "source": [
    "df[\"stars\"].mode()"
   ]
  },
  {
   "cell_type": "code",
   "execution_count": 29,
   "id": "e8148be2",
   "metadata": {},
   "outputs": [
    {
     "data": {
      "text/plain": [
       "0.08120735761080985"
      ]
     },
     "execution_count": 29,
     "metadata": {},
     "output_type": "execute_result"
    }
   ],
   "source": [
    "dfam[\"stars\"].skew()"
   ]
  },
  {
   "cell_type": "code",
   "execution_count": 30,
   "id": "63c1a6ea",
   "metadata": {},
   "outputs": [
    {
     "data": {
      "text/plain": [
       "-1.9260061280432985"
      ]
     },
     "execution_count": 30,
     "metadata": {},
     "output_type": "execute_result"
    }
   ],
   "source": [
    "dfam[\"stars\"].kurtosis()"
   ]
  },
  {
   "cell_type": "code",
   "execution_count": 34,
   "id": "ef365d7d",
   "metadata": {},
   "outputs": [
    {
     "data": {
      "text/plain": [
       "4.81743402976196"
      ]
     },
     "execution_count": 34,
     "metadata": {},
     "output_type": "execute_result"
    }
   ],
   "source": [
    "dfam[\"stars\"].var()"
   ]
  },
  {
   "cell_type": "code",
   "execution_count": 32,
   "id": "0bfa437a",
   "metadata": {},
   "outputs": [
    {
     "data": {
      "text/plain": [
       "<Axes: xlabel='stars', ylabel='Count'>"
      ]
     },
     "execution_count": 32,
     "metadata": {},
     "output_type": "execute_result"
    },
    {
     "data": {
      "image/png": "[encoded data removed]",
      "text/plain": [
       "<Figure size 640x480 with 1 Axes>"
      ]
     },
     "metadata": {},
     "output_type": "display_data"
    }
   ],
   "source": [
    "sns.histplot(df[\"stars\"], kde=True, bins=30)"
   ]
  },
  {
   "cell_type": "code",
   "execution_count": 35,
   "id": "ba3be9a9",
   "metadata": {},
   "outputs": [
    {
     "data": {
      "text/plain": [
       "array([4.7, 4.6, 4.5, 4.8, 0. , 4.4, 4.3, 4.1, 4.9, 5. , 3.8, 3.6, 4. ,\n",
       "       4.2, 3. , 3.9, 2.5, 3.4, 3.7, 3.2, 3.3, 3.5, 2.7, 2.1, 1. , 3.1,\n",
       "       2. , 2.9, 2.8, 1.5, 2.2, 2.3, 2.6, 2.4, 1.4, 1.9, 1.8, 1.7, 1.6,\n",
       "       1.2, 1.3, 1.1])"
      ]
     },
     "execution_count": 35,
     "metadata": {},
     "output_type": "execute_result"
    }
   ],
   "source": [
    "df[\"stars\"].unique()"
   ]
  },
  {
   "cell_type": "code",
   "execution_count": 38,
   "id": "5e723c1a",
   "metadata": {},
   "outputs": [
    {
     "data": {
      "text/plain": [
       "reviews\n",
       "0         1225641\n",
       "1           90033\n",
       "2           54452\n",
       "3           39922\n",
       "4           30720\n",
       "           ...   \n",
       "13246           1\n",
       "16044           1\n",
       "25872           1\n",
       "8503            1\n",
       "547940          1\n",
       "Name: count, Length: 19446, dtype: int64"
      ]
     },
     "execution_count": 38,
     "metadata": {},
     "output_type": "execute_result"
    }
   ],
   "source": [
    "df[\"reviews\"].value_counts()"
   ]
  },
  {
   "cell_type": "code",
   "execution_count": 39,
   "id": "baa37793",
   "metadata": {},
   "outputs": [
    {
     "data": {
      "text/plain": [
       "stars\n",
       "0.0    1225641\n",
       "4.5     151577\n",
       "4.6     136995\n",
       "4.4     136165\n",
       "5.0     128492\n",
       "4.3     112564\n",
       "4.7      94566\n",
       "4.2      86871\n",
       "4.0      66089\n",
       "4.1      65115\n",
       "4.8      41858\n",
       "3.9      36555\n",
       "3.8      27876\n",
       "3.7      21137\n",
       "3.6      16219\n",
       "3.5      14673\n",
       "3.0      12819\n",
       "4.9      11081\n",
       "3.4      10355\n",
       "1.0       8484\n",
       "3.3       8269\n",
       "3.2       5771\n",
       "3.1       4679\n",
       "2.0       3901\n",
       "2.9       3341\n",
       "2.8       2306\n",
       "2.7       2104\n",
       "2.5       2103\n",
       "2.6       1579\n",
       "2.4       1060\n",
       "2.3        734\n",
       "2.2        602\n",
       "2.1        540\n",
       "1.5        404\n",
       "1.9        300\n",
       "1.8        249\n",
       "1.7        177\n",
       "1.4        149\n",
       "1.6        147\n",
       "1.3         78\n",
       "1.2         23\n",
       "1.1          3\n",
       "Name: count, dtype: int64"
      ]
     },
     "execution_count": 39,
     "metadata": {},
     "output_type": "execute_result"
    }
   ],
   "source": [
    "df[\"stars\"].value_counts()"
   ]
  },
  {
   "cell_type": "code",
   "execution_count": null,
   "id": "20bc3a87",
   "metadata": {},
   "outputs": [],
   "source": []
  }
 ],
 "metadata": {
  "kernelspec": {
   "display_name": "Python 3 (ipykernel)",
   "language": "python",
   "name": "python3"
  },
  "language_info": {
   "codemirror_mode": {
    "name": "ipython",
    "version": 3
   },
   "file_extension": ".py",
   "mimetype": "text/x-python",
   "name": "python",
   "nbconvert_exporter": "python",
   "pygments_lexer": "ipython3",
   "version": "3.11.5"
  }
 },
 "nbformat": 4,
 "nbformat_minor": 5
}
